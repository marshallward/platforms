{
  "nbformat": 4,
  "nbformat_minor": 0,
  "metadata": {
    "colab": {
      "name": "simple example 1.ipynb",
      "version": "0.3.2",
      "provenance": [],
      "include_colab_link": true
    },
    "kernelspec": {
      "name": "python3",
      "display_name": "Python 3"
    },
    "accelerator": "GPU"
  },
  "cells": [
    {
      "cell_type": "markdown",
      "metadata": {
        "id": "view-in-github",
        "colab_type": "text"
      },
      "source": [
        "<a href=\"https://colab.research.google.com/github/nikizadehgfdl/platforms/blob/master/gpu_samples/python/simple%20example%201.ipynb\" target=\"_parent\"><img src=\"https://colab.research.google.com/assets/colab-badge.svg\" alt=\"Open In Colab\"/></a>"
      ]
    },
    {
      "metadata": {
        "id": "l9LFFYXp4UV5",
        "colab_type": "code",
        "colab": {}
      },
      "cell_type": "code",
      "source": [
        "import numpy as np\n",
        "\n",
        "def pow(a,b,c):\n",
        "    for i in range(a.size):\n",
        "        c[i]=a[i] ** b[i]\n",
        "        \n",
        "\n",
        "vec_size = 100000000\n",
        "a = b = np.array(np.random.sample(vec_size), dtype=np.float32)\n",
        "c = np.zeros(vec_size, dtype=np.float32)"
      ],
      "execution_count": 0,
      "outputs": []
    },
    {
      "metadata": {
        "id": "jRspRNeF4UV_",
        "colab_type": "code",
        "colab": {
          "base_uri": "https://localhost:8080/",
          "height": 51
        },
        "outputId": "db58e729-479d-41d0-bc88-58c3fde387af"
      },
      "cell_type": "code",
      "source": [
        "import socket\n",
        "print(socket.gethostname())\n",
        "%timeit pow(a, b, c)"
      ],
      "execution_count": 5,
      "outputs": [
        {
          "output_type": "stream",
          "text": [
            "d78b22291f4a\n",
            "1 loop, best of 3: 35.5 s per loop\n"
          ],
          "name": "stdout"
        }
      ]
    },
    {
      "metadata": {
        "id": "5pocZbsdAAhy",
        "colab_type": "text"
      },
      "cell_type": "markdown",
      "source": [
        "google colab machine d78b22291f4a 1 loop, best of 3: 35.5 s per loop\n",
        "\n",
        "gfdl gpu box lscgpu50-d                            31.8 s ± 25.9 ms per loop (mean ± std. dev. of 7 runs, 1 loop each)"
      ]
    },
    {
      "metadata": {
        "id": "fpq8M02r9L2D",
        "colab_type": "code",
        "colab": {
          "base_uri": "https://localhost:8080/",
          "height": 51
        },
        "outputId": "72f89a78-f219-4077-c825-4e4fce03445e"
      },
      "cell_type": "code",
      "source": [
        "#Needed to do this for colab \n",
        "#!find / -iname 'libdevice'\n",
        "#!find / -iname 'libnvvm.so'\n",
        "#import os\n",
        "#os.environ['NUMBAPRO_LIBDEVICE'] = \"/usr/local/cuda-9.2/nvvm/libdevice\"\n",
        "#os.environ['NUMBAPRO_NVVM'] = \"/usr/local/cuda-9.2/nvvm/lib64/libnvvm.so\""
      ],
      "execution_count": 9,
      "outputs": [
        {
          "output_type": "stream",
          "text": [
            "/usr/local/cuda-9.2/nvvm/libdevice\n",
            "/usr/local/cuda-9.2/nvvm/lib64/libnvvm.so\n"
          ],
          "name": "stdout"
        }
      ]
    },
    {
      "metadata": {
        "id": "dtHh4CYx4UWF",
        "colab_type": "code",
        "colab": {}
      },
      "cell_type": "code",
      "source": [
        "from numba import vectorize\n",
        "\n",
        "@vectorize(['float32(float32, float32)'], target='cuda')\n",
        "def pow2(a, b):\n",
        "    return a ** b"
      ],
      "execution_count": 0,
      "outputs": []
    },
    {
      "metadata": {
        "id": "OHfT4xzC4UWJ",
        "colab_type": "code",
        "colab": {
          "base_uri": "https://localhost:8080/",
          "height": 34
        },
        "outputId": "5f4ff9b8-fb36-4e22-bfac-e42345e42d18"
      },
      "cell_type": "code",
      "source": [
        "%timeit pow2(a,b)"
      ],
      "execution_count": 12,
      "outputs": [
        {
          "output_type": "stream",
          "text": [
            "1 loop, best of 3: 272 ms per loop\n"
          ],
          "name": "stdout"
        }
      ]
    },
    {
      "metadata": {
        "id": "laIgfv_MAAz-",
        "colab_type": "text"
      },
      "cell_type": "markdown",
      "source": [
        "google colab machine d78b22291f4a :  1 loop, best of 3: 272 ms per loop\n",
        "\n",
        "gfdl gpu box lscgpu50-d :                                 386 ms ± 77.9 ms per loop (mean ± std. dev. of 7 runs, 1 loop each)"
      ]
    },
    {
      "metadata": {
        "id": "1sKy5JWk4UWN",
        "colab_type": "code",
        "colab": {}
      },
      "cell_type": "code",
      "source": [
        ""
      ],
      "execution_count": 0,
      "outputs": []
    }
  ]
}