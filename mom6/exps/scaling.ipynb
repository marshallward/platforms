{
 "cells": [
  {
   "cell_type": "code",
   "execution_count": 11,
   "metadata": {},
   "outputs": [
    {
     "name": "stdout",
     "output_type": "stream",
     "text": [
      "['mom6_solo_global_ALE_z/stdout.ubuntu.Inspiron15i7.pgi18.prod.n4', 'mom6_solo_global_ALE_z/stdout.gaea4-intel18.prod.n4', 'mom6_solo_global_ALE_z/stdout.tiger-intel18.prod.n4', 'mom6_solo_global_ALE_z/stdout.googcp-intel19.prod.n6', 'mom6_solo_global_ALE_z/stdout.googcp-intel19.repro.n8', 'mom6_solo_global_ALE_z/stdout.tiger-intel18.prod.n16', 'mom6_solo_global_ALE_z/stdout.gaea4-intel18.prod.n16', 'mom6_solo_global_ALE_z/stdout.ubuntu.Inspiron15i7.gnu7.prod.n4', 'mom6_solo_global_ALE_z/stdout.ubuntu.Inspiron15i7.gnu7.repro.n4', 'mom6_solo_global_ALE_z/stdout.tiger-intel18.prod.n8', 'mom6_solo_global_ALE_z/stdout.gaea4-intel18.prod.n64', 'mom6_solo_global_ALE_z/stdout.ubuntu.Inspiron15i7.gnu7.prod.n6', 'mom6_solo_global_ALE_z/stdout.ubuntu.xpsCentrioDuo.gnu7.repro.n2', 'mom6_solo_global_ALE_z/stdout.ubuntu.Inspiron15i7.gnu7.prod.n8', 'mom6_solo_global_ALE_z/stdout.googcp-intel19.prod.n16', 'mom6_solo_global_ALE_z/stdout.googcp-intel19.prod.n8', 'mom6_solo_global_ALE_z/stdout.tiger-intel18.prod.n32', 'mom6_solo_global_ALE_z/stdout.gaea4-intel18.prod.n32', 'mom6_solo_global_ALE_z/stdout.ubuntu.xpsCentrioDuo.gnu7.prod.n2', 'mom6_solo_global_ALE_z/stdout.ubuntu.Inspiron15i7.pgi18.prod.n6', 'mom6_solo_global_ALE_z/stdout.ubuntu.Inspiron15i7.pgi18.prod.n8', 'mom6_solo_global_ALE_z/stdout.ubuntu.Inspiron15i7.pgi18.repro.n4', 'mom6_solo_global_ALE_z/stdout.googcp-intel19.prod.n4', 'mom6_solo_global_ALE_z/stdout.gaea4-intel18.prod.n6', 'mom6_solo_global_ALE_z/stdout.gaea4-intel18.prod.n8']\n"
     ]
    }
   ],
   "source": [
    "import matplotlib.pyplot as plt\n",
    "%matplotlib inline\n",
    "import fnmatch\n",
    "import os\n",
    "\n",
    "experiment = 'mom6_solo_global_ALE_z/'\n",
    "\n",
    "\n",
    "def listdir(dirname, pattern=\"*\"):\n",
    "    return fnmatch.filter(os.listdir(dirname), pattern)\n",
    "\n",
    "def findfiles(pattern, path):\n",
    "    result = []\n",
    "    for root, dirs, files in os.walk(path):\n",
    "        for name in files:\n",
    "            if fnmatch.fnmatch(name, pattern):\n",
    "                result.append(os.path.join(root, name))\n",
    "    return result\n",
    "\n",
    "\n",
    "stdouts = findfiles(\"stdout*\",experiment)\n",
    "\n",
    "print(stdouts)"
   ]
  },
  {
   "cell_type": "code",
   "execution_count": 59,
   "metadata": {},
   "outputs": [
    {
     "name": "stdout",
     "output_type": "stream",
     "text": [
      "defaultdict(<class 'list'>, {'ubuntu.Inspiron15i7.pgi18.prod': [(4, 110.323791), (6, 119.256983), (8, 115.55814)], 'gaea4-intel18.prod': [(4, 59.304927), (16, 23.654884), (64, 7.836283), (32, 13.162969), (6, 44.48349), (8, 39.907557)], 'tiger-intel18.prod': [(4, 53.044394), (16, 18.535831), (8, 33.245234), (32, 12.647945)], 'googcp-intel19.prod': [(6, 56.768975), (16, 29.161566), (8, 48.68991), (4, 84.808978)], 'googcp-intel19.repro': [(8, 49.197386)], 'ubuntu.Inspiron15i7.gnu7.prod': [(4, 104.994538), (6, 113.068782), (8, 107.94501)], 'ubuntu.Inspiron15i7.gnu7.repro': [(4, 144.16903)], 'ubuntu.xpsCentrioDuo.gnu7.repro': [(2, 4086.224987)], 'ubuntu.xpsCentrioDuo.gnu7.prod': [(2, 3901.233288)], 'ubuntu.Inspiron15i7.pgi18.repro': [(4, 116.327085)]})\n"
     ]
    }
   ],
   "source": [
    "import re\n",
    "from collections import defaultdict\n",
    "\n",
    "key = 'Main loop'\n",
    "timing_regex ='\\s*' + re.escape(key) + r'\\s* ([-+]?\\d*\\.\\d+|\\d+)\\s*([-+]?\\d*\\.\\d+|\\d+)\\s*([-+]?\\d*\\.\\d+|\\d+)\\s*([-+]?\\d*\\.\\d+|\\d+)\\s*([-+]?\\d*\\.\\d+|\\d+)\\s*(\\d+)\\s*(\\d+)\\s*(\\d+)'\n",
    "\n",
    "table=defaultdict(list)\n",
    "for stdout in stdouts:\n",
    "    n = re.match('(\\S+)\\/stdout.(.*).n\\d+',stdout)\n",
    "    exp = n.group(1)\n",
    "    plat= n.group(2)\n",
    "    for line in open(stdout,\"r\"):\n",
    "        m = re.match(timing_regex,line)\n",
    "        if m:\n",
    "#            print(1+int(m.group(8)),float(m.group(2)))\n",
    "            table[plat].append((1+int(m.group(8)),float(m.group(2))))\n",
    "\n",
    "\n",
    "print(table)           "
   ]
  },
  {
   "cell_type": "code",
   "execution_count": null,
   "metadata": {
    "collapsed": true
   },
   "outputs": [],
   "source": []
  }
 ],
 "metadata": {
  "kernelspec": {
   "display_name": "Python 3",
   "language": "python",
   "name": "python3"
  },
  "language_info": {
   "codemirror_mode": {
    "name": "ipython",
    "version": 3
   },
   "file_extension": ".py",
   "mimetype": "text/x-python",
   "name": "python",
   "nbconvert_exporter": "python",
   "pygments_lexer": "ipython3",
   "version": "3.6.1"
  }
 },
 "nbformat": 4,
 "nbformat_minor": 2
}
